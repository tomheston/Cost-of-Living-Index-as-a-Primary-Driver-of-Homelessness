{
  "nbformat": 4,
  "nbformat_minor": 0,
  "metadata": {
    "colab": {
      "provenance": [],
      "mount_file_id": "1LyFV6Pagy4pn5DuzPw1N0KDrPh5wAcgf",
      "authorship_tag": "ABX9TyMK0XVsbVcSxV/v2ws2g0aZ",
      "include_colab_link": true
    },
    "kernelspec": {
      "name": "python3",
      "display_name": "Python 3"
    },
    "language_info": {
      "name": "python"
    }
  },
  "cells": [
    {
      "cell_type": "markdown",
      "metadata": {
        "id": "view-in-github",
        "colab_type": "text"
      },
      "source": [
        "<a href=\"https://colab.research.google.com/github/tomheston/Cost-of-Living-Index-as-a-Primary-Driver-of-Homelessness/blob/main/randomforest.ipynb\" target=\"_parent\"><img src=\"https://colab.research.google.com/assets/colab-badge.svg\" alt=\"Open In Colab\"/></a>"
      ]
    },
    {
      "cell_type": "code",
      "execution_count": 3,
      "metadata": {
        "colab": {
          "base_uri": "https://localhost:8080/"
        },
        "id": "Q6RKuR8ccSrf",
        "outputId": "23bc3d10-b31e-43c7-ea71-280733b1c98b"
      },
      "outputs": [
        {
          "output_type": "stream",
          "name": "stdout",
          "text": [
            "COLI: 0.6416878748492407\n",
            "ETOHBINGE: 0.12226980912877938\n",
            "UNEMPLOYMENT: 0.09106716374670316\n",
            "TAXES: 0.08510614426317752\n",
            "POVERTY: 0.059869008012099226\n",
            "MSE: 102.092237154375\n",
            "R-squared: 0.6549316049674789\n"
          ]
        }
      ],
      "source": [
        "#################################################################\n",
        "# The Cost of Living Index as a Primary Driver of Homelessness: #\n",
        "# A Cross-State Regression Analysis                             #\n",
        "# Thomas F. Heston, MD                                          #\n",
        "# Data is publicly available on the Zenodo repository           #\n",
        "#################################################################\n",
        "\n",
        "# Import libraries\n",
        "import pandas as pd\n",
        "from sklearn.ensemble import RandomForestRegressor\n",
        "from sklearn.model_selection import train_test_split\n",
        "\n",
        "# Read in data - note, you have to upload data manually to google colab\n",
        "# you can get the data from Zenodo repository\n",
        "#\n",
        "df = pd.read_excel('20230919-DATA-ONLY.xlsx')\n",
        "\n",
        "# Drop columns\n",
        "# lines commented out are retained in the model\n",
        "#df = df.drop('UNEMPLOYMENT', axis=1) # 1\n",
        "#df = df.drop('COLI', axis=1) # 2\n",
        "#df = df.drop('ETOHBINGE', axis=1) # 17\n",
        "#df = df.drop('POVERTY', axis=1) # 8\n",
        "#df = df.drop('TAXES', axis=1) # 15\n",
        "#\n",
        "# the 5 baskets of cost of living index dropped, and COLI kept\n",
        "# adding back in any or all of the variables below degraded the model\n",
        "#\n",
        "df = df.drop('GROCERY', axis=1) # 3\n",
        "df = df.drop('HOUSING', axis=1) # 4\n",
        "df = df.drop('UTILITIES', axis=1) # 5\n",
        "df = df.drop('TRANSPORTATION', axis=1) # 6\n",
        "df = df.drop('HEALTH', axis=1) # 7\n",
        "df = df.drop('GDP', axis=1) # 9\n",
        "df = df.drop('DRUGODMORTALITY', axis=1) # 10\n",
        "df = df.drop('INCOME', axis=1) # 11\n",
        "df = df.drop('PRISONERS', axis=1) # 12\n",
        "df = df.drop('GAS', axis=1) # 13\n",
        "df = df.drop('GINI', axis=1) # 14\n",
        "df = df.drop('HOUSINGBURDEN', axis=1) # 16\n",
        "df = df.drop('OPIOIDRX', axis=1) # 18\n",
        "df = df.drop('SMOKERS', axis=1) # 19\n",
        "df = df.drop('HSGRAD', axis=1) # 20\n",
        "df = df.drop('CIGEXCISE', axis=1) # 21\n",
        "df = df.drop('ALCOHOL', axis=1) # 22\n",
        "df = df.drop('PARTY', axis=1) # 23\n",
        "df = df.drop('POP', axis=1) # 24\n",
        "df = df.drop('SANCTUARY', axis=1) # 25\n",
        "\n",
        "# Separate features and target\n",
        "X = df.drop(['HOMELESSNESS'], axis=1)\n",
        "y = df['HOMELESSNESS']\n",
        "\n",
        "# Split data into train and test sets\n",
        "X_train, X_test, y_train, y_test = train_test_split(X, y, test_size=0.3, random_state=42)\n",
        "\n",
        "# Instantiate model\n",
        "rf_model = RandomForestRegressor(n_estimators=100, random_state=42)\n",
        "\n",
        "# Fit to training data\n",
        "rf_model.fit(X_train, y_train)\n",
        "\n",
        "# Evaluate on test data\n",
        "test_pred = rf_model.predict(X_test)\n",
        "test_r2 = rf_model.score(X_test, y_test)\n",
        "\n",
        "# Extra evaluations\n",
        "# Get feature importances\n",
        "importances = rf_model.feature_importances_\n",
        "\n",
        "# Get list of feature names\n",
        "feature_names = X.columns\n",
        "\n",
        "# Zip features and importances together\n",
        "features_importances = zip(feature_names, importances)\n",
        "\n",
        "# Sort by importance\n",
        "sorted_features = sorted(features_importances, key=lambda x: x[1], reverse=True)\n",
        "\n",
        "# Print ordered feature importances\n",
        "for feature in sorted_features:\n",
        "    print(\"{}: {}\".format(feature[0], feature[1]))\n",
        "\n",
        "# Print MSE\n",
        "from sklearn.metrics import mean_squared_error\n",
        "y_pred = rf_model.predict(X_test)\n",
        "mse = mean_squared_error(y_test, y_pred)\n",
        "\n",
        "# print metrics\n",
        "print(\"MSE:\", mse)\n",
        "print('R-squared:', test_r2)\n",
        "\n"
      ]
    }
  ]
}